{
 "cells": [
  {
   "cell_type": "code",
   "execution_count": 1,
   "id": "2f6588ba",
   "metadata": {},
   "outputs": [],
   "source": [
    "from b2d.testbed.backend.jupyter import JupyterGui\n",
    "import ipywidgets\n",
    "import ipycanvas\n",
    "import b2d\n",
    "import random"
   ]
  },
  {
   "cell_type": "code",
   "execution_count": 15,
   "id": "77e6975a",
   "metadata": {},
   "outputs": [
    {
     "data": {
      "application/vnd.jupyter.widget-view+json": {
       "model_id": "d2bb4c132ff64c858092ac21040bd839",
       "version_major": 2,
       "version_minor": 0
      },
      "text/plain": [
       "Output()"
      ]
     },
     "metadata": {},
     "output_type": "display_data"
    }
   ],
   "source": [
    "class LiveInteraction(b2d.testbed.TestbedBase):\n",
    "\n",
    "    name = \"live interaction\"\n",
    "    \n",
    "    def __init__(self, settings=None): \n",
    "        super(LiveInteraction, self).__init__(settings=settings)\n",
    "        dimensions = [30,30]\n",
    "        \n",
    "        # the outer box\n",
    "        box_shape = b2d.ChainShape()\n",
    "        box_shape.create_loop([\n",
    "                (0,0),\n",
    "                (0,dimensions[1]),\n",
    "             (dimensions[0],dimensions[1]),\n",
    "                (dimensions[0],0)\n",
    "            ]\n",
    "        )\n",
    "        box = self.world.create_static_body( position=(0, 0), \n",
    "            fixtures=b2d.fixture_def(\n",
    "                shape = box_shape,\n",
    "                friction=0\n",
    "            )\n",
    "        )\n",
    "        tank = self.world.create_kinematic_body(position=(10,10),\n",
    "            fixtures=b2d.fixture_def(\n",
    "                shape=b2d.polygon_shape(box=[1,1]),\n",
    "            ),\n",
    "            user_data='tank'\n",
    "        )\n",
    "\n",
    "ui = LiveInteraction.run(JupyterGui)"
   ]
  },
  {
   "cell_type": "code",
   "execution_count": null,
   "id": "4908b0a3",
   "metadata": {},
   "outputs": [],
   "source": []
  }
 ],
 "metadata": {
  "kernelspec": {
   "display_name": "Python 3 (ipykernel)",
   "language": "python",
   "name": "python3"
  },
  "language_info": {
   "codemirror_mode": {
    "name": "ipython",
    "version": 3
   },
   "file_extension": ".py",
   "mimetype": "text/x-python",
   "name": "python",
   "nbconvert_exporter": "python",
   "pygments_lexer": "ipython3",
   "version": "3.8.12"
  }
 },
 "nbformat": 4,
 "nbformat_minor": 5
}
